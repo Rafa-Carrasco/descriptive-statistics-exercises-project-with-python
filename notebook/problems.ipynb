{
    "cells": [
        {
            "cell_type": "markdown",
            "id": "ac622319",
            "metadata": {},
            "source": [
                "# Descriptive statistics problems"
            ]
        },
        {
            "cell_type": "markdown",
            "id": "5e0ab0d5",
            "metadata": {},
            "source": [
                "### Exercise 1\n",
                "\n",
                "We will use NumPy to obtain information to describe statistically.\n",
                "\n",
                "- Generate an array of 100 elements following a normal distribution.\n",
                "- Generate an array of 100 elements following a chi-square distribution with 3 degrees of freedom.\n",
                "- Calculate the main metrics and statistical measures that best describe the two vectors."
            ]
        },
        {
            "cell_type": "code",
            "execution_count": null,
            "id": "34720ab6",
            "metadata": {},
            "outputs": [
                {
                    "name": "stdout",
                    "output_type": "stream",
                    "text": [
                        "Media: -0.0050702255410981\n",
                        "Media chi: 2.9839653800295762\n",
                        "Mediana: 0.009468404929992506\n",
                        "Mediana chi: 2.253049417572183\n",
                        "Moda: -1.2810180755355116\n",
                        "Moda chi: 7.320110192917642\n",
                        "Rango: 4.3714511886051\n",
                        "Rango chi: 14.242375047384648\n",
                        "Varianza: 0.9941437677329419\n",
                        "Desviación estándar: 0.9970675843356567\n",
                        "Varianza chi: 0.9941437677329419\n",
                        "Desviación estándar chi: 2.6740273817339766\n",
                        "asimetria: -0.08726063352380077\n",
                        "asimetria chi: 2.0187931962907797\n",
                        "curtosis: -0.7343386087639567\n",
                        "curtosis chi: 4.71906389465136\n"
                    ]
                }
            ],
            "source": [
                "# TODO\n",
                "import numpy as np\n",
                "import statistics as stats\n",
                "\n",
                "array = np.random.normal(loc=0, scale=1, size=100)\n",
                "df = 3\n",
                "arrchi = samples = np.random.chisquare(df, size=100)\n",
                "\n",
                "#print(array[:10])\n",
                "#print(arrchi[:10])\n",
                "\n",
                "mean = stats.mean(array)\n",
                "print(f\"Media: {mean}\")\n",
                "\n",
                "mean_chi = stats.mean(arrchi)\n",
                "print(f\"Media chi: {mean_chi}\")\n",
                "\n",
                "median = stats.median(array)\n",
                "print(f\"Mediana: {median}\")\n",
                "\n",
                "median_chi = stats.median(arrchi)\n",
                "print(f\"Mediana chi: {median_chi}\")\n",
                "\n",
                "mode = stats.mode(array)\n",
                "print(f\"Moda: {mode}\")\n",
                "\n",
                "mode_chi = stats.mode(arrchi)\n",
                "print(f\"Moda chi: {mode_chi}\")\n",
                "\n",
                "range_ = max(array) - min(array)\n",
                "print(f\"Rango: {range_}\")\n",
                "\n",
                "range_chi = max(arrchi) - min(arrchi)\n",
                "print(f\"Rango chi: {range_chi}\")\n",
                "\n",
                "variance = stats.variance(array)\n",
                "std = stats.stdev(array)\n",
                "print(f\"Varianza: {variance}\")\n",
                "print(f\"Desviación estándar: {std}\")\n",
                "\n",
                "variance_chi = stats.variance(arrchi)\n",
                "std_chi = stats.stdev(arrchi)\n",
                "print(f\"Varianza chi: {variance}\")\n",
                "print(f\"Desviación estándar chi: {std_chi}\")\n",
                "\n",
                "from scipy.stats import skew\n",
                "skewness = skew(array)\n",
                "skewness_chi = skew(arrchi)\n",
                "print(f\"asimetria: {skewness}\")\n",
                "print(f\"asimetria chi: {skewness_chi}\")\n",
                "\n",
                "from scipy.stats import kurtosis\n",
                "kurt = kurtosis(array)\n",
                "kurt_chi = kurtosis(arrchi)\n",
                "print(f\"curtosis: {kurt}\")\n",
                "print(f\"curtosis chi: {kurt_chi}\")\n",
                "\n",
                "\n"
            ]
        },
        {
            "cell_type": "markdown",
            "id": "46c70c3d",
            "metadata": {},
            "source": [
                "### Exercise 2\n",
                "\n",
                "Write a Python program to calculate the standard deviation of the following data:\n",
                "\n",
                "```py\n",
                "data = [4, 2, 5, 8, 6]\n",
                "```"
            ]
        },
        {
            "cell_type": "code",
            "execution_count": 3,
            "id": "d590308e",
            "metadata": {},
            "outputs": [
                {
                    "name": "stdout",
                    "output_type": "stream",
                    "text": [
                        "Media: 5\n",
                        "Desviación estándar: 2.23606797749979\n",
                        "Desviación estándar con numpy: 2.23606797749979\n"
                    ]
                }
            ],
            "source": [
                "import numpy as np\n",
                "import statistics as stats\n",
                "import math\n",
                "\n",
                "data = [4, 2, 5, 8, 6]\n",
                "\n",
                "# media\n",
                "mean = stats.mean(data)\n",
                "print(f\"Media: {mean}\")\n",
                "\n",
                "# suma de las desviaciones al cuadrado\n",
                "total = sum((n - mean) ** 2 for n in data)\n",
                "\n",
                "# Calcular la varianza (dividiendo por N-1 para una muestra)\n",
                "varianza = total / (len(data) - 1)\n",
                "\n",
                "# Calcular la desviación estándar\n",
                "sd = math.sqrt(varianza)\n",
                "print(f\"Desviación estándar: {sd}\")\n",
                "\n",
                "# Usando numpy para calcular la desviación estándar\n",
                "std_deviation = np.std(data, ddof=1)\n",
                "print(f\"Desviación estándar con numpy: {std_deviation}\")\n",
                "\n",
                "\n"
            ]
        }
    ],
    "metadata": {
        "interpreter": {
            "hash": "9248718ffe6ce6938b217e69dbcc175ea21f4c6b28a317e96c05334edae734bb"
        },
        "kernelspec": {
            "display_name": "Python 3.9.12 ('ML-BOOTCAMP')",
            "language": "python",
            "name": "python3"
        },
        "language_info": {
            "codemirror_mode": {
                "name": "ipython",
                "version": 3
            },
            "file_extension": ".py",
            "mimetype": "text/x-python",
            "name": "python",
            "nbconvert_exporter": "python",
            "pygments_lexer": "ipython3",
            "version": "3.11.4"
        }
    },
    "nbformat": 4,
    "nbformat_minor": 5
}
